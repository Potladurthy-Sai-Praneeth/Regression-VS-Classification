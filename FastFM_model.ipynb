{
 "cells": [
  {
   "cell_type": "code",
   "execution_count": 1,
   "metadata": {
    "colab": {
     "base_uri": "https://localhost:8080/"
    },
    "id": "udmm8VGqeNuJ",
    "outputId": "dc11e7f5-a8c3-4290-a98d-a406afcb4d43"
   },
   "outputs": [
    {
     "name": "stdout",
     "output_type": "stream",
     "text": [
      "Requirement already satisfied: fastFM in /usr/local/lib/python3.10/dist-packages (0.2.10)\n",
      "Requirement already satisfied: numpy in /usr/local/lib/python3.10/dist-packages (from fastFM) (1.23.5)\n",
      "Requirement already satisfied: scikit-learn in /usr/local/lib/python3.10/dist-packages (from fastFM) (1.2.2)\n",
      "Requirement already satisfied: scipy in /usr/local/lib/python3.10/dist-packages (from fastFM) (1.11.4)\n",
      "Requirement already satisfied: cython in /usr/local/lib/python3.10/dist-packages (from fastFM) (3.0.6)\n",
      "Requirement already satisfied: joblib>=1.1.1 in /usr/local/lib/python3.10/dist-packages (from scikit-learn->fastFM) (1.3.2)\n",
      "Requirement already satisfied: threadpoolctl>=2.0.0 in /usr/local/lib/python3.10/dist-packages (from scikit-learn->fastFM) (3.2.0)\n"
     ]
    }
   ],
   "source": [
    "pip install fastFM\n"
   ]
  },
  {
   "cell_type": "code",
   "execution_count": 2,
   "metadata": {
    "id": "0P_V_c2UgSB4"
   },
   "outputs": [],
   "source": [
    "from fastFM import als,sgd\n",
    "from sklearn.feature_extraction import DictVectorizer\n",
    "import gzip\n",
    "import math\n",
    "import json\n",
    "import numpy as np\n",
    "import random\n",
    "import pandas as pd\n",
    "import sklearn\n",
    "import string\n",
    "from collections import defaultdict\n",
    "from nltk.stem.porter import *\n",
    "from sklearn.linear_model import LogisticRegression,Ridge,Lasso\n",
    "from sklearn.preprocessing import LabelEncoder\n",
    "from sklearn.metrics import accuracy_score,mean_squared_error,confusion_matrix,classification_report,mean_absolute_error,precision_score,recall_score,f1_score\n",
    "from sklearn.feature_extraction.text import TfidfVectorizer,CountVectorizer\n",
    "from sklearn.metrics.pairwise import cosine_similarity\n",
    "import re\n",
    "import nltk\n",
    "from sklearn.feature_selection import SelectKBest,chi2,mutual_info_classif\n",
    "from sklearn.model_selection import train_test_split\n",
    "import datetime as dt\n",
    "#nltk.download('all')\n",
    "#nltk.download('vader_lexicon')\n",
    "from nltk.sentiment.vader import SentimentIntensityAnalyzer\n",
    "from gensim.models import Word2Vec\n",
    "import dateutil\n",
    "from scipy.sparse import lil_matrix # To build sparse feature matrices, if you like\n",
    "import matplotlib.pyplot as plt\n",
    "import seaborn as sns\n",
    "import statistics\n",
    "from scipy import spatial"
   ]
  },
  {
   "cell_type": "code",
   "execution_count": 3,
   "metadata": {
    "id": "RiwbzDolgSKh"
   },
   "outputs": [],
   "source": [
    "train=pd.read_csv('processed_train.csv')\n",
    "test=pd.read_csv('processed_test.csv')"
   ]
  },
  {
   "cell_type": "code",
   "execution_count": 4,
   "metadata": {
    "id": "3Y-ZiUgZ8_ib"
   },
   "outputs": [],
   "source": [
    "train['user_id']=train['user_id'].astype('str')\n",
    "train['item_id']=train['item_id'].astype('str')\n",
    "train['age']=train['age'].astype('str')\n",
    "train['size']=train['size'].astype('str')\n",
    "train['year']=train['year'].astype('str')\n",
    "train['month']=train['month'].astype('str')\n",
    "#train['review_polarity_score']=train['review_polarity_score'].apply(lambda x: 1 if (x>0.5) else 0 )\n",
    "train.drop(['BMI','rented for'],axis=1,inplace=True)\n",
    "#train.drop(['height','weight',],axis=1,inplace=True)"
   ]
  },
  {
   "cell_type": "code",
   "execution_count": 5,
   "metadata": {
    "id": "WyJHtxws8_aq"
   },
   "outputs": [],
   "source": [
    "test['user_id']=test['user_id'].astype('str')\n",
    "test['item_id']=test['item_id'].astype('str')\n",
    "test['age']=test['age'].astype('str')\n",
    "test['size']=test['size'].astype('str')\n",
    "test['year']=test['year'].astype('str')\n",
    "test['month']=test['month'].astype('str')\n",
    "#test['review_polarity_score']=test['review_polarity_score'].apply(lambda x: 1 if (x>0.5) else 0 )\n",
    "test.drop(['BMI','rented for'],axis=1,inplace=True)\n",
    "#test.drop(['height','weight','rented for'],axis=1,inplace=True)"
   ]
  },
  {
   "cell_type": "code",
   "execution_count": 6,
   "metadata": {
    "colab": {
     "base_uri": "https://localhost:8080/",
     "height": 423
    },
    "id": "7sd2cxbf5Wvi",
    "outputId": "7caab3ff-f18c-467c-f14f-73a797b4f184"
   },
   "outputs": [
    {
     "data": {
      "text/html": [
       "\n",
       "  <div id=\"df-ba90f668-c382-4713-8d27-dcf95c50fc76\" class=\"colab-df-container\">\n",
       "    <div>\n",
       "<style scoped>\n",
       "    .dataframe tbody tr th:only-of-type {\n",
       "        vertical-align: middle;\n",
       "    }\n",
       "\n",
       "    .dataframe tbody tr th {\n",
       "        vertical-align: top;\n",
       "    }\n",
       "\n",
       "    .dataframe thead th {\n",
       "        text-align: right;\n",
       "    }\n",
       "</style>\n",
       "<table border=\"1\" class=\"dataframe\">\n",
       "  <thead>\n",
       "    <tr style=\"text-align: right;\">\n",
       "      <th></th>\n",
       "      <th>fit</th>\n",
       "      <th>user_id</th>\n",
       "      <th>bust size</th>\n",
       "      <th>item_id</th>\n",
       "      <th>weight</th>\n",
       "      <th>rating</th>\n",
       "      <th>body type</th>\n",
       "      <th>category</th>\n",
       "      <th>height</th>\n",
       "      <th>size</th>\n",
       "      <th>age</th>\n",
       "      <th>review_polarity_score</th>\n",
       "      <th>year</th>\n",
       "      <th>month</th>\n",
       "    </tr>\n",
       "  </thead>\n",
       "  <tbody>\n",
       "    <tr>\n",
       "      <th>0</th>\n",
       "      <td>fit</td>\n",
       "      <td>644617</td>\n",
       "      <td>34a</td>\n",
       "      <td>276763</td>\n",
       "      <td>150lbs</td>\n",
       "      <td>8</td>\n",
       "      <td>pear</td>\n",
       "      <td>dress</td>\n",
       "      <td>5' 6\"</td>\n",
       "      <td>8</td>\n",
       "      <td>30</td>\n",
       "      <td>0.9501</td>\n",
       "      <td>2016</td>\n",
       "      <td>6</td>\n",
       "    </tr>\n",
       "    <tr>\n",
       "      <th>1</th>\n",
       "      <td>fit</td>\n",
       "      <td>646060</td>\n",
       "      <td>32c</td>\n",
       "      <td>174086</td>\n",
       "      <td>135lbs</td>\n",
       "      <td>10</td>\n",
       "      <td>athletic</td>\n",
       "      <td>dress</td>\n",
       "      <td>5' 8\"</td>\n",
       "      <td>8</td>\n",
       "      <td>26</td>\n",
       "      <td>0.9416</td>\n",
       "      <td>2014</td>\n",
       "      <td>5</td>\n",
       "    </tr>\n",
       "    <tr>\n",
       "      <th>2</th>\n",
       "      <td>small</td>\n",
       "      <td>634534</td>\n",
       "      <td>36b</td>\n",
       "      <td>1434272</td>\n",
       "      <td>140lbs</td>\n",
       "      <td>6</td>\n",
       "      <td>pear</td>\n",
       "      <td>sheath</td>\n",
       "      <td>5' 10\"</td>\n",
       "      <td>24</td>\n",
       "      <td>38</td>\n",
       "      <td>0.8021</td>\n",
       "      <td>2016</td>\n",
       "      <td>11</td>\n",
       "    </tr>\n",
       "    <tr>\n",
       "      <th>3</th>\n",
       "      <td>large</td>\n",
       "      <td>269132</td>\n",
       "      <td>34b</td>\n",
       "      <td>181737</td>\n",
       "      <td>128lbs</td>\n",
       "      <td>8</td>\n",
       "      <td>straight &amp; narrow</td>\n",
       "      <td>dress</td>\n",
       "      <td>5' 9\"</td>\n",
       "      <td>4</td>\n",
       "      <td>49</td>\n",
       "      <td>0.9273</td>\n",
       "      <td>2014</td>\n",
       "      <td>6</td>\n",
       "    </tr>\n",
       "    <tr>\n",
       "      <th>4</th>\n",
       "      <td>large</td>\n",
       "      <td>380701</td>\n",
       "      <td>34c</td>\n",
       "      <td>143094</td>\n",
       "      <td>128lbs</td>\n",
       "      <td>8</td>\n",
       "      <td>pear</td>\n",
       "      <td>dress</td>\n",
       "      <td>5' 4\"</td>\n",
       "      <td>8</td>\n",
       "      <td>30</td>\n",
       "      <td>0.9905</td>\n",
       "      <td>2013</td>\n",
       "      <td>11</td>\n",
       "    </tr>\n",
       "    <tr>\n",
       "      <th>...</th>\n",
       "      <td>...</td>\n",
       "      <td>...</td>\n",
       "      <td>...</td>\n",
       "      <td>...</td>\n",
       "      <td>...</td>\n",
       "      <td>...</td>\n",
       "      <td>...</td>\n",
       "      <td>...</td>\n",
       "      <td>...</td>\n",
       "      <td>...</td>\n",
       "      <td>...</td>\n",
       "      <td>...</td>\n",
       "      <td>...</td>\n",
       "      <td>...</td>\n",
       "    </tr>\n",
       "    <tr>\n",
       "      <th>153957</th>\n",
       "      <td>fit</td>\n",
       "      <td>182654</td>\n",
       "      <td>34dd</td>\n",
       "      <td>1717057</td>\n",
       "      <td>150lbs</td>\n",
       "      <td>8</td>\n",
       "      <td>hourglass</td>\n",
       "      <td>dress</td>\n",
       "      <td>5' 4\"</td>\n",
       "      <td>20</td>\n",
       "      <td>44</td>\n",
       "      <td>0.9442</td>\n",
       "      <td>2016</td>\n",
       "      <td>11</td>\n",
       "    </tr>\n",
       "    <tr>\n",
       "      <th>153958</th>\n",
       "      <td>fit</td>\n",
       "      <td>318969</td>\n",
       "      <td>34b</td>\n",
       "      <td>180843</td>\n",
       "      <td>140lbs</td>\n",
       "      <td>10</td>\n",
       "      <td>hourglass</td>\n",
       "      <td>dress</td>\n",
       "      <td>5' 6\"</td>\n",
       "      <td>12</td>\n",
       "      <td>31</td>\n",
       "      <td>0.8267</td>\n",
       "      <td>2012</td>\n",
       "      <td>9</td>\n",
       "    </tr>\n",
       "    <tr>\n",
       "      <th>153959</th>\n",
       "      <td>fit</td>\n",
       "      <td>271629</td>\n",
       "      <td>36d</td>\n",
       "      <td>986324</td>\n",
       "      <td>140lbs</td>\n",
       "      <td>10</td>\n",
       "      <td>full bust</td>\n",
       "      <td>dress</td>\n",
       "      <td>5' 8\"</td>\n",
       "      <td>14</td>\n",
       "      <td>29</td>\n",
       "      <td>0.8446</td>\n",
       "      <td>2016</td>\n",
       "      <td>2</td>\n",
       "    </tr>\n",
       "    <tr>\n",
       "      <th>153960</th>\n",
       "      <td>fit</td>\n",
       "      <td>761195</td>\n",
       "      <td>38dd</td>\n",
       "      <td>271412</td>\n",
       "      <td>140lbs</td>\n",
       "      <td>8</td>\n",
       "      <td>full bust</td>\n",
       "      <td>sheath</td>\n",
       "      <td>5' 3\"</td>\n",
       "      <td>32</td>\n",
       "      <td>45</td>\n",
       "      <td>0.8479</td>\n",
       "      <td>2017</td>\n",
       "      <td>12</td>\n",
       "    </tr>\n",
       "    <tr>\n",
       "      <th>153961</th>\n",
       "      <td>fit</td>\n",
       "      <td>18776</td>\n",
       "      <td>34c</td>\n",
       "      <td>134849</td>\n",
       "      <td>132lbs</td>\n",
       "      <td>10</td>\n",
       "      <td>athletic</td>\n",
       "      <td>gown</td>\n",
       "      <td>5' 3\"</td>\n",
       "      <td>12</td>\n",
       "      <td>33</td>\n",
       "      <td>0.8363</td>\n",
       "      <td>2013</td>\n",
       "      <td>2</td>\n",
       "    </tr>\n",
       "  </tbody>\n",
       "</table>\n",
       "<p>153962 rows × 14 columns</p>\n",
       "</div>\n",
       "    <div class=\"colab-df-buttons\">\n",
       "\n",
       "  <div class=\"colab-df-container\">\n",
       "    <button class=\"colab-df-convert\" onclick=\"convertToInteractive('df-ba90f668-c382-4713-8d27-dcf95c50fc76')\"\n",
       "            title=\"Convert this dataframe to an interactive table.\"\n",
       "            style=\"display:none;\">\n",
       "\n",
       "  <svg xmlns=\"http://www.w3.org/2000/svg\" height=\"24px\" viewBox=\"0 -960 960 960\">\n",
       "    <path d=\"M120-120v-720h720v720H120Zm60-500h600v-160H180v160Zm220 220h160v-160H400v160Zm0 220h160v-160H400v160ZM180-400h160v-160H180v160Zm440 0h160v-160H620v160ZM180-180h160v-160H180v160Zm440 0h160v-160H620v160Z\"/>\n",
       "  </svg>\n",
       "    </button>\n",
       "\n",
       "  <style>\n",
       "    .colab-df-container {\n",
       "      display:flex;\n",
       "      gap: 12px;\n",
       "    }\n",
       "\n",
       "    .colab-df-convert {\n",
       "      background-color: #E8F0FE;\n",
       "      border: none;\n",
       "      border-radius: 50%;\n",
       "      cursor: pointer;\n",
       "      display: none;\n",
       "      fill: #1967D2;\n",
       "      height: 32px;\n",
       "      padding: 0 0 0 0;\n",
       "      width: 32px;\n",
       "    }\n",
       "\n",
       "    .colab-df-convert:hover {\n",
       "      background-color: #E2EBFA;\n",
       "      box-shadow: 0px 1px 2px rgba(60, 64, 67, 0.3), 0px 1px 3px 1px rgba(60, 64, 67, 0.15);\n",
       "      fill: #174EA6;\n",
       "    }\n",
       "\n",
       "    .colab-df-buttons div {\n",
       "      margin-bottom: 4px;\n",
       "    }\n",
       "\n",
       "    [theme=dark] .colab-df-convert {\n",
       "      background-color: #3B4455;\n",
       "      fill: #D2E3FC;\n",
       "    }\n",
       "\n",
       "    [theme=dark] .colab-df-convert:hover {\n",
       "      background-color: #434B5C;\n",
       "      box-shadow: 0px 1px 3px 1px rgba(0, 0, 0, 0.15);\n",
       "      filter: drop-shadow(0px 1px 2px rgba(0, 0, 0, 0.3));\n",
       "      fill: #FFFFFF;\n",
       "    }\n",
       "  </style>\n",
       "\n",
       "    <script>\n",
       "      const buttonEl =\n",
       "        document.querySelector('#df-ba90f668-c382-4713-8d27-dcf95c50fc76 button.colab-df-convert');\n",
       "      buttonEl.style.display =\n",
       "        google.colab.kernel.accessAllowed ? 'block' : 'none';\n",
       "\n",
       "      async function convertToInteractive(key) {\n",
       "        const element = document.querySelector('#df-ba90f668-c382-4713-8d27-dcf95c50fc76');\n",
       "        const dataTable =\n",
       "          await google.colab.kernel.invokeFunction('convertToInteractive',\n",
       "                                                    [key], {});\n",
       "        if (!dataTable) return;\n",
       "\n",
       "        const docLinkHtml = 'Like what you see? Visit the ' +\n",
       "          '<a target=\"_blank\" href=https://colab.research.google.com/notebooks/data_table.ipynb>data table notebook</a>'\n",
       "          + ' to learn more about interactive tables.';\n",
       "        element.innerHTML = '';\n",
       "        dataTable['output_type'] = 'display_data';\n",
       "        await google.colab.output.renderOutput(dataTable, element);\n",
       "        const docLink = document.createElement('div');\n",
       "        docLink.innerHTML = docLinkHtml;\n",
       "        element.appendChild(docLink);\n",
       "      }\n",
       "    </script>\n",
       "  </div>\n",
       "\n",
       "\n",
       "<div id=\"df-1b543b7d-61cc-4e87-b5a5-bd7a7e4a85cb\">\n",
       "  <button class=\"colab-df-quickchart\" onclick=\"quickchart('df-1b543b7d-61cc-4e87-b5a5-bd7a7e4a85cb')\"\n",
       "            title=\"Suggest charts\"\n",
       "            style=\"display:none;\">\n",
       "\n",
       "<svg xmlns=\"http://www.w3.org/2000/svg\" height=\"24px\"viewBox=\"0 0 24 24\"\n",
       "     width=\"24px\">\n",
       "    <g>\n",
       "        <path d=\"M19 3H5c-1.1 0-2 .9-2 2v14c0 1.1.9 2 2 2h14c1.1 0 2-.9 2-2V5c0-1.1-.9-2-2-2zM9 17H7v-7h2v7zm4 0h-2V7h2v10zm4 0h-2v-4h2v4z\"/>\n",
       "    </g>\n",
       "</svg>\n",
       "  </button>\n",
       "\n",
       "<style>\n",
       "  .colab-df-quickchart {\n",
       "      --bg-color: #E8F0FE;\n",
       "      --fill-color: #1967D2;\n",
       "      --hover-bg-color: #E2EBFA;\n",
       "      --hover-fill-color: #174EA6;\n",
       "      --disabled-fill-color: #AAA;\n",
       "      --disabled-bg-color: #DDD;\n",
       "  }\n",
       "\n",
       "  [theme=dark] .colab-df-quickchart {\n",
       "      --bg-color: #3B4455;\n",
       "      --fill-color: #D2E3FC;\n",
       "      --hover-bg-color: #434B5C;\n",
       "      --hover-fill-color: #FFFFFF;\n",
       "      --disabled-bg-color: #3B4455;\n",
       "      --disabled-fill-color: #666;\n",
       "  }\n",
       "\n",
       "  .colab-df-quickchart {\n",
       "    background-color: var(--bg-color);\n",
       "    border: none;\n",
       "    border-radius: 50%;\n",
       "    cursor: pointer;\n",
       "    display: none;\n",
       "    fill: var(--fill-color);\n",
       "    height: 32px;\n",
       "    padding: 0;\n",
       "    width: 32px;\n",
       "  }\n",
       "\n",
       "  .colab-df-quickchart:hover {\n",
       "    background-color: var(--hover-bg-color);\n",
       "    box-shadow: 0 1px 2px rgba(60, 64, 67, 0.3), 0 1px 3px 1px rgba(60, 64, 67, 0.15);\n",
       "    fill: var(--button-hover-fill-color);\n",
       "  }\n",
       "\n",
       "  .colab-df-quickchart-complete:disabled,\n",
       "  .colab-df-quickchart-complete:disabled:hover {\n",
       "    background-color: var(--disabled-bg-color);\n",
       "    fill: var(--disabled-fill-color);\n",
       "    box-shadow: none;\n",
       "  }\n",
       "\n",
       "  .colab-df-spinner {\n",
       "    border: 2px solid var(--fill-color);\n",
       "    border-color: transparent;\n",
       "    border-bottom-color: var(--fill-color);\n",
       "    animation:\n",
       "      spin 1s steps(1) infinite;\n",
       "  }\n",
       "\n",
       "  @keyframes spin {\n",
       "    0% {\n",
       "      border-color: transparent;\n",
       "      border-bottom-color: var(--fill-color);\n",
       "      border-left-color: var(--fill-color);\n",
       "    }\n",
       "    20% {\n",
       "      border-color: transparent;\n",
       "      border-left-color: var(--fill-color);\n",
       "      border-top-color: var(--fill-color);\n",
       "    }\n",
       "    30% {\n",
       "      border-color: transparent;\n",
       "      border-left-color: var(--fill-color);\n",
       "      border-top-color: var(--fill-color);\n",
       "      border-right-color: var(--fill-color);\n",
       "    }\n",
       "    40% {\n",
       "      border-color: transparent;\n",
       "      border-right-color: var(--fill-color);\n",
       "      border-top-color: var(--fill-color);\n",
       "    }\n",
       "    60% {\n",
       "      border-color: transparent;\n",
       "      border-right-color: var(--fill-color);\n",
       "    }\n",
       "    80% {\n",
       "      border-color: transparent;\n",
       "      border-right-color: var(--fill-color);\n",
       "      border-bottom-color: var(--fill-color);\n",
       "    }\n",
       "    90% {\n",
       "      border-color: transparent;\n",
       "      border-bottom-color: var(--fill-color);\n",
       "    }\n",
       "  }\n",
       "</style>\n",
       "\n",
       "  <script>\n",
       "    async function quickchart(key) {\n",
       "      const quickchartButtonEl =\n",
       "        document.querySelector('#' + key + ' button');\n",
       "      quickchartButtonEl.disabled = true;  // To prevent multiple clicks.\n",
       "      quickchartButtonEl.classList.add('colab-df-spinner');\n",
       "      try {\n",
       "        const charts = await google.colab.kernel.invokeFunction(\n",
       "            'suggestCharts', [key], {});\n",
       "      } catch (error) {\n",
       "        console.error('Error during call to suggestCharts:', error);\n",
       "      }\n",
       "      quickchartButtonEl.classList.remove('colab-df-spinner');\n",
       "      quickchartButtonEl.classList.add('colab-df-quickchart-complete');\n",
       "    }\n",
       "    (() => {\n",
       "      let quickchartButtonEl =\n",
       "        document.querySelector('#df-1b543b7d-61cc-4e87-b5a5-bd7a7e4a85cb button');\n",
       "      quickchartButtonEl.style.display =\n",
       "        google.colab.kernel.accessAllowed ? 'block' : 'none';\n",
       "    })();\n",
       "  </script>\n",
       "</div>\n",
       "    </div>\n",
       "  </div>\n"
      ],
      "text/plain": [
       "          fit user_id bust size  item_id  weight  rating          body type  \\\n",
       "0         fit  644617       34a   276763  150lbs       8               pear   \n",
       "1         fit  646060       32c   174086  135lbs      10           athletic   \n",
       "2       small  634534       36b  1434272  140lbs       6               pear   \n",
       "3       large  269132       34b   181737  128lbs       8  straight & narrow   \n",
       "4       large  380701       34c   143094  128lbs       8               pear   \n",
       "...       ...     ...       ...      ...     ...     ...                ...   \n",
       "153957    fit  182654      34dd  1717057  150lbs       8          hourglass   \n",
       "153958    fit  318969       34b   180843  140lbs      10          hourglass   \n",
       "153959    fit  271629       36d   986324  140lbs      10          full bust   \n",
       "153960    fit  761195      38dd   271412  140lbs       8          full bust   \n",
       "153961    fit   18776       34c   134849  132lbs      10           athletic   \n",
       "\n",
       "       category  height size age  review_polarity_score  year month  \n",
       "0         dress   5' 6\"    8  30                 0.9501  2016     6  \n",
       "1         dress   5' 8\"    8  26                 0.9416  2014     5  \n",
       "2        sheath  5' 10\"   24  38                 0.8021  2016    11  \n",
       "3         dress   5' 9\"    4  49                 0.9273  2014     6  \n",
       "4         dress   5' 4\"    8  30                 0.9905  2013    11  \n",
       "...         ...     ...  ...  ..                    ...   ...   ...  \n",
       "153957    dress   5' 4\"   20  44                 0.9442  2016    11  \n",
       "153958    dress   5' 6\"   12  31                 0.8267  2012     9  \n",
       "153959    dress   5' 8\"   14  29                 0.8446  2016     2  \n",
       "153960   sheath   5' 3\"   32  45                 0.8479  2017    12  \n",
       "153961     gown   5' 3\"   12  33                 0.8363  2013     2  \n",
       "\n",
       "[153962 rows x 14 columns]"
      ]
     },
     "execution_count": 6,
     "metadata": {},
     "output_type": "execute_result"
    }
   ],
   "source": [
    "train"
   ]
  },
  {
   "cell_type": "code",
   "execution_count": 7,
   "metadata": {
    "colab": {
     "base_uri": "https://localhost:8080/"
    },
    "id": "n9WmPzMb7oKs",
    "outputId": "887202d0-203a-4d91-8f1f-8c0cd6a92cdc"
   },
   "outputs": [
    {
     "data": {
      "text/plain": [
       "fit                       object\n",
       "user_id                   object\n",
       "bust size                 object\n",
       "item_id                   object\n",
       "weight                    object\n",
       "rating                     int64\n",
       "body type                 object\n",
       "category                  object\n",
       "height                    object\n",
       "size                      object\n",
       "age                       object\n",
       "review_polarity_score    float64\n",
       "year                      object\n",
       "month                     object\n",
       "dtype: object"
      ]
     },
     "execution_count": 7,
     "metadata": {},
     "output_type": "execute_result"
    }
   ],
   "source": [
    "train.dtypes"
   ]
  },
  {
   "cell_type": "code",
   "execution_count": 8,
   "metadata": {
    "id": "kuPVjL4WlMk2"
   },
   "outputs": [],
   "source": [
    "target_train=train['rating']\n",
    "features_train=train.drop('rating',axis=1)\n",
    "train_dict=features_train.to_dict('records')"
   ]
  },
  {
   "cell_type": "code",
   "execution_count": 9,
   "metadata": {
    "id": "3rKO0ByAl1ke"
   },
   "outputs": [],
   "source": [
    "target_test=test['rating']\n",
    "features_test=test.drop('rating',axis=1)\n",
    "test_dict=features_test.to_dict('records')"
   ]
  },
  {
   "cell_type": "code",
   "execution_count": 10,
   "metadata": {
    "id": "bAHMbRLqgSM3"
   },
   "outputs": [],
   "source": [
    "v = DictVectorizer()\n",
    "X = v.fit_transform(train_dict)\n",
    "\n",
    "X_train, X_valid, y_train, y_valid = train_test_split(X, target_train.values, test_size=0.12, random_state=472)"
   ]
  },
  {
   "cell_type": "code",
   "execution_count": 11,
   "metadata": {
    "colab": {
     "base_uri": "https://localhost:8080/"
    },
    "id": "i9Z4qfPTJPqZ",
    "outputId": "cf23f597-ebc7-4bc6-8f8e-a3c1308453d8"
   },
   "outputs": [
    {
     "name": "stdout",
     "output_type": "stream",
     "text": [
      "  (0, 27)\t1.0\n",
      "  (0, 91)\t1.0\n",
      "  (0, 128)\t1.0\n",
      "  (0, 213)\t1.0\n",
      "  (0, 265)\t1.0\n",
      "  (0, 282)\t1.0\n",
      "  (0, 4195)\t1.0\n",
      "  (0, 6068)\t1.0\n",
      "  (0, 6072)\t0.9501\n",
      "  (0, 6127)\t1.0\n",
      "  (0, 60893)\t1.0\n",
      "  (0, 96757)\t1.0\n",
      "  (0, 96902)\t1.0\n"
     ]
    }
   ],
   "source": [
    "print(X[0])"
   ]
  },
  {
   "cell_type": "code",
   "execution_count": 12,
   "metadata": {
    "id": "_kZeo-vxcw6W"
   },
   "outputs": [],
   "source": [
    "def get_even_rating(val):\n",
    "  if(val>10):\n",
    "    return 10\n",
    "  if (math.floor(val)%2 == 0):\n",
    "    return int(val)\n",
    "  else:\n",
    "    return int(val+1)"
   ]
  },
  {
   "cell_type": "code",
   "execution_count": null,
   "metadata": {
    "colab": {
     "base_uri": "https://localhost:8080/"
    },
    "id": "1DHgXs_3QXc5",
    "outputId": "99f6f2f2-212b-44cb-c553-cc8be2c02304"
   },
   "outputs": [
    {
     "data": {
      "text/plain": [
       "8"
      ]
     },
     "execution_count": 152,
     "metadata": {},
     "output_type": "execute_result"
    }
   ],
   "source": [
    "get_even_rating(8.99)"
   ]
  },
  {
   "cell_type": "code",
   "execution_count": null,
   "metadata": {
    "id": "oCJLGbuLeEHL"
   },
   "outputs": [],
   "source": [
    "#parameters=[{'n_iter':50, 'rank':8, 'l2_reg_w':0.01, 'l2_reg_V':0.1},{'n_iter':70, 'rank':10, 'l2_reg_w':0.09, 'l2_reg_V':0.2},{'n_iter':80, 'rank':12, 'l2_reg_w':0.1, 'l2_reg_V':0.4},{'n_iter':100, 'rank':15, 'l2_reg_w':0.1, 'l2_reg_V':0.5},{'n_iter':150, 'rank':20, 'l2_reg_w':0.2, 'l2_reg_V':0.7}]"
   ]
  },
  {
   "cell_type": "code",
   "execution_count": null,
   "metadata": {
    "id": "7HRIy1eSB2Tt"
   },
   "outputs": [],
   "source": [
    "# Few parameters are known to perform well let us tweak more hyperparameters closely\n",
    "parameters=[{'n_iter':100, 'rank':15, 'l2_reg_w':0.12, 'l2_reg_V':0.4},{'n_iter':110, 'rank':17, 'l2_reg_w':0.13, 'l2_reg_V':0.3},{'n_iter':120, 'rank':15, 'l2_reg_w':0.15, 'l2_reg_V':0.45},{'n_iter':130, 'rank':17, 'l2_reg_w':0.17, 'l2_reg_V':0.5},{'n_iter':140, 'rank':18, 'l2_reg_w':0.2, 'l2_reg_V':0.3}]"
   ]
  },
  {
   "cell_type": "code",
   "execution_count": null,
   "metadata": {
    "id": "FaRd_crLfGxX"
   },
   "outputs": [],
   "source": [
    "regression=defaultdict(list)\n",
    "classification=defaultdict(list)\n",
    "params=[]"
   ]
  },
  {
   "cell_type": "code",
   "execution_count": null,
   "metadata": {
    "id": "e27prN4Pgbyz"
   },
   "outputs": [],
   "source": [
    "sparse_test=v.transform(test_dict)"
   ]
  },
  {
   "cell_type": "code",
   "execution_count": null,
   "metadata": {
    "colab": {
     "base_uri": "https://localhost:8080/"
    },
    "id": "iTsWJAJUfFbk",
    "outputId": "a2754dd0-248c-4748-adba-d6eb93eb3363"
   },
   "outputs": [
    {
     "name": "stdout",
     "output_type": "stream",
     "text": [
      "For Params {'n_iter': 100, 'rank': 15, 'l2_reg_w': 0.12, 'l2_reg_V': 0.4} we have valid MSE 3.2531989890375708,MAE 1.3492057755094469,RMSE 1.8036626594342886 and test MSE 3.224701875532315,MAE 1.3432189258460498,RMSE 1.7957454929728531\n",
      "For Params {'n_iter': 100, 'rank': 15, 'l2_reg_w': 0.12, 'l2_reg_V': 0.4} we have valid accuracy 0.5414591903009309, F1 0.5495344010858255 and test accuracy 0.5385035074045207, F1 0.5474318837751156\n",
      "For Params {'n_iter': 110, 'rank': 17, 'l2_reg_w': 0.13, 'l2_reg_V': 0.3} we have valid MSE 3.246769179720235,MAE 1.3482673029687742,RMSE 1.8018793466046041 and test MSE 3.2365427597817944,MAE 1.3477745913322043,RMSE 1.7990393991744023\n",
      "For Params {'n_iter': 110, 'rank': 17, 'l2_reg_w': 0.13, 'l2_reg_V': 0.3} we have valid accuracy 0.5411885689543191, F1 0.5497327658281522 and test accuracy 0.5366328916601715, F1 0.5453213875587568\n",
      "For Params {'n_iter': 120, 'rank': 15, 'l2_reg_w': 0.15, 'l2_reg_V': 0.45} we have valid MSE 3.2217397920674635,MAE 1.342708776404223,RMSE 1.7949205531352812 and test MSE 3.199151512886952,MAE 1.3377706009356516,RMSE 1.7886172069190636\n",
      "For Params {'n_iter': 120, 'rank': 15, 'l2_reg_w': 0.15, 'l2_reg_V': 0.45} we have valid accuracy 0.540430829183806, F1 0.5494495153203214 and test accuracy 0.5370745648220316, F1 0.5466560068370869\n",
      "For Params {'n_iter': 130, 'rank': 17, 'l2_reg_w': 0.17, 'l2_reg_V': 0.5} we have valid MSE 3.195254018160633,MAE 1.3371515536964464,RMSE 1.7875273475280407 and test MSE 3.17344521695957,MAE 1.3343725633675796,RMSE 1.7814166320542677\n",
      "For Params {'n_iter': 130, 'rank': 17, 'l2_reg_w': 0.17, 'l2_reg_V': 0.5} we have valid accuracy 0.5391318467200693, F1 0.5483800012483137 and test accuracy 0.5342686412055079, F1 0.5439701668237822\n",
      "For Params {'n_iter': 140, 'rank': 18, 'l2_reg_w': 0.2, 'l2_reg_V': 0.3} we have valid MSE 3.2297169757339614,MAE 1.3445994946717361,RMSE 1.7971413343791194 and test MSE 3.212132742373245,MAE 1.340969064305614,RMSE 1.7922423782438706\n",
      "For Params {'n_iter': 140, 'rank': 18, 'l2_reg_w': 0.2, 'l2_reg_V': 0.3} we have valid accuracy 0.5404849534531284, F1 0.5491182047045359 and test accuracy 0.5387113535983372, F1 0.5474180725432558\n"
     ]
    }
   ],
   "source": [
    "for d in parameters:\n",
    "  fm = als.FMRegression(n_iter=d['n_iter'], rank=d['rank'], l2_reg_w=d['l2_reg_w'], l2_reg_V=d['l2_reg_V'])\n",
    "  #Fit the model to the training data\n",
    "  fm.fit(X_train, y_train)\n",
    "\n",
    "  y_pred = fm.predict(X_valid)\n",
    "\n",
    "  mse_valid = mean_squared_error(y_valid, y_pred)\n",
    "  mae_valid = mean_absolute_error(y_valid, y_pred)\n",
    "  rmse_valid = mean_squared_error(y_valid, y_pred,squared=False)\n",
    "\n",
    "  y_pred_class=[get_even_rating(y) for y in y_pred]\n",
    "  accuracy_valid=accuracy_score(y_valid,y_pred_class)\n",
    "  f1_valid=f1_score(y_valid,y_pred_class,average='weighted')\n",
    "\n",
    "  y_pred_test=fm.predict(sparse_test)\n",
    "\n",
    "  mse_test = mean_squared_error(target_test.values, y_pred_test)\n",
    "  mae_test = mean_absolute_error(target_test.values, y_pred_test)\n",
    "  rmse_test = mean_squared_error(target_test.values, y_pred_test,squared=False)\n",
    "\n",
    "  y_pred_test_class=[get_even_rating(y) for y in y_pred_test]\n",
    "  accuracy_test=accuracy_score(target_test.values,y_pred_test_class)\n",
    "  f1_test=f1_score(target_test.values,y_pred_test_class,average='weighted')\n",
    "\n",
    "  params.append(d)\n",
    "\n",
    "  regression['mse_valid'].append(mse_valid)\n",
    "  regression['rmse_valid'].append(rmse_valid)\n",
    "  regression['mae_valid'].append(mae_valid)\n",
    "  regression['mse_test'].append(mse_test)\n",
    "  regression['rmse_test'].append(rmse_test)\n",
    "  regression['mae_test'].append(mae_test)\n",
    "\n",
    "  classification['accuracy_valid'].append(accuracy_valid)\n",
    "  classification['accuracy_test'].append(accuracy_test)\n",
    "  classification['f1_valid'].append(f1_valid)\n",
    "  classification['f1_test'].append(f1_test)\n",
    "\n",
    "  print(f'For Params {d} we have valid MSE {mse_valid},MAE {mae_valid},RMSE {rmse_valid} and test MSE {mse_test},MAE {mae_test},RMSE {rmse_test}')\n",
    "  print(f'For Params {d} we have valid accuracy {accuracy_valid}, F1 {f1_valid} and test accuracy {accuracy_test}, F1 {f1_test}')\n"
   ]
  },
  {
   "cell_type": "code",
   "execution_count": null,
   "metadata": {
    "id": "MpnZZuicjsvI"
   },
   "outputs": [],
   "source": [
    "reg=pd.DataFrame()\n",
    "reg['Parameters']=params\n",
    "reg['MSE_validation']=regression['mse_valid']\n",
    "reg['MAE_validation']=regression['mae_valid']\n",
    "reg['RMSE_validation']=regression['rmse_valid']\n",
    "reg['MSE_test']=regression['mse_test']\n",
    "reg['MAE_test']=regression['mae_test']\n",
    "reg['RMSE_test']=regression['rmse_test']"
   ]
  },
  {
   "cell_type": "code",
   "execution_count": null,
   "metadata": {
    "id": "RfL1RA9ckbSM"
   },
   "outputs": [],
   "source": [
    "clas=pd.DataFrame()\n",
    "clas['Parameters']=params\n",
    "clas['Accuracy_validation']=classification['accuracy_valid']\n",
    "clas['F1_score_validation']=classification['f1_valid']\n",
    "clas['Accuracy_test']=classification['accuracy_test']\n",
    "clas['F1_score_test']=classification['f1_test']"
   ]
  },
  {
   "cell_type": "code",
   "execution_count": null,
   "metadata": {
    "id": "CqVrDgNMoLJW"
   },
   "outputs": [],
   "source": [
    "reg\n",
    "reg.to_csv('FastFM_regression_mse.csv')"
   ]
  },
  {
   "cell_type": "code",
   "execution_count": null,
   "metadata": {
    "id": "Hu7sDVe4pRr4"
   },
   "outputs": [],
   "source": [
    "clas\n",
    "clas.to_csv('FastFM_classification_accuracy.csv')"
   ]
  },
  {
   "cell_type": "code",
   "execution_count": null,
   "metadata": {
    "id": "Xy_LYd5Uiw7B"
   },
   "outputs": [],
   "source": [
    "from sklearn.model_selection import GridSearchCV\n",
    "\n",
    "param_grid={'n_iter':np.arange(80,150,15),'rank':np.arange(8,25,2),'l2_reg_w':np.arange(0,0.2,0.03),'l2_reg_V':np.arange(0,1,0.1)}\n",
    "fm=als.FMRegression()\n",
    "cv=GridSearchCV(fm,param_grid=param_grid,cv=10,scoring='neg_mean_squared_error') #,'neg_mean_absolute_error'\n",
    "cv.fit(X_train, y_train) #refit='neg_mean_absolute_error'"
   ]
  },
  {
   "cell_type": "code",
   "execution_count": 54,
   "metadata": {
    "colab": {
     "base_uri": "https://localhost:8080/",
     "height": 74
    },
    "id": "1T7OXQahErIl",
    "outputId": "8f96619f-63d1-4f7b-ea4d-1fc265bb297c"
   },
   "outputs": [
    {
     "data": {
      "text/html": [
       "<style>#sk-container-id-21 {color: black;background-color: white;}#sk-container-id-21 pre{padding: 0;}#sk-container-id-21 div.sk-toggleable {background-color: white;}#sk-container-id-21 label.sk-toggleable__label {cursor: pointer;display: block;width: 100%;margin-bottom: 0;padding: 0.3em;box-sizing: border-box;text-align: center;}#sk-container-id-21 label.sk-toggleable__label-arrow:before {content: \"▸\";float: left;margin-right: 0.25em;color: #696969;}#sk-container-id-21 label.sk-toggleable__label-arrow:hover:before {color: black;}#sk-container-id-21 div.sk-estimator:hover label.sk-toggleable__label-arrow:before {color: black;}#sk-container-id-21 div.sk-toggleable__content {max-height: 0;max-width: 0;overflow: hidden;text-align: left;background-color: #f0f8ff;}#sk-container-id-21 div.sk-toggleable__content pre {margin: 0.2em;color: black;border-radius: 0.25em;background-color: #f0f8ff;}#sk-container-id-21 input.sk-toggleable__control:checked~div.sk-toggleable__content {max-height: 200px;max-width: 100%;overflow: auto;}#sk-container-id-21 input.sk-toggleable__control:checked~label.sk-toggleable__label-arrow:before {content: \"▾\";}#sk-container-id-21 div.sk-estimator input.sk-toggleable__control:checked~label.sk-toggleable__label {background-color: #d4ebff;}#sk-container-id-21 div.sk-label input.sk-toggleable__control:checked~label.sk-toggleable__label {background-color: #d4ebff;}#sk-container-id-21 input.sk-hidden--visually {border: 0;clip: rect(1px 1px 1px 1px);clip: rect(1px, 1px, 1px, 1px);height: 1px;margin: -1px;overflow: hidden;padding: 0;position: absolute;width: 1px;}#sk-container-id-21 div.sk-estimator {font-family: monospace;background-color: #f0f8ff;border: 1px dotted black;border-radius: 0.25em;box-sizing: border-box;margin-bottom: 0.5em;}#sk-container-id-21 div.sk-estimator:hover {background-color: #d4ebff;}#sk-container-id-21 div.sk-parallel-item::after {content: \"\";width: 100%;border-bottom: 1px solid gray;flex-grow: 1;}#sk-container-id-21 div.sk-label:hover label.sk-toggleable__label {background-color: #d4ebff;}#sk-container-id-21 div.sk-serial::before {content: \"\";position: absolute;border-left: 1px solid gray;box-sizing: border-box;top: 0;bottom: 0;left: 50%;z-index: 0;}#sk-container-id-21 div.sk-serial {display: flex;flex-direction: column;align-items: center;background-color: white;padding-right: 0.2em;padding-left: 0.2em;position: relative;}#sk-container-id-21 div.sk-item {position: relative;z-index: 1;}#sk-container-id-21 div.sk-parallel {display: flex;align-items: stretch;justify-content: center;background-color: white;position: relative;}#sk-container-id-21 div.sk-item::before, #sk-container-id-21 div.sk-parallel-item::before {content: \"\";position: absolute;border-left: 1px solid gray;box-sizing: border-box;top: 0;bottom: 0;left: 50%;z-index: -1;}#sk-container-id-21 div.sk-parallel-item {display: flex;flex-direction: column;z-index: 1;position: relative;background-color: white;}#sk-container-id-21 div.sk-parallel-item:first-child::after {align-self: flex-end;width: 50%;}#sk-container-id-21 div.sk-parallel-item:last-child::after {align-self: flex-start;width: 50%;}#sk-container-id-21 div.sk-parallel-item:only-child::after {width: 0;}#sk-container-id-21 div.sk-dashed-wrapped {border: 1px dashed gray;margin: 0 0.4em 0.5em 0.4em;box-sizing: border-box;padding-bottom: 0.4em;background-color: white;}#sk-container-id-21 div.sk-label label {font-family: monospace;font-weight: bold;display: inline-block;line-height: 1.2em;}#sk-container-id-21 div.sk-label-container {text-align: center;}#sk-container-id-21 div.sk-container {/* jupyter's `normalize.less` sets `[hidden] { display: none; }` but bootstrap.min.css set `[hidden] { display: none !important; }` so we also need the `!important` here to be able to override the default hidden behavior on the sphinx rendered scikit-learn.org. See: https://github.com/scikit-learn/scikit-learn/issues/21755 */display: inline-block !important;position: relative;}#sk-container-id-21 div.sk-text-repr-fallback {display: none;}</style><div id=\"sk-container-id-21\" class=\"sk-top-container\"><div class=\"sk-text-repr-fallback\"><pre>FMRegression(l2_reg_V=0.08, l2_reg_w=0.09, n_iter=16, rank=12)</pre><b>In a Jupyter environment, please rerun this cell to show the HTML representation or trust the notebook. <br />On GitHub, the HTML representation is unable to render, please try loading this page with nbviewer.org.</b></div><div class=\"sk-container\" hidden><div class=\"sk-item\"><div class=\"sk-estimator sk-toggleable\"><input class=\"sk-toggleable__control sk-hidden--visually\" id=\"sk-estimator-id-21\" type=\"checkbox\" checked><label for=\"sk-estimator-id-21\" class=\"sk-toggleable__label sk-toggleable__label-arrow\">FMRegression</label><div class=\"sk-toggleable__content\"><pre>FMRegression(l2_reg_V=0.08, l2_reg_w=0.09, n_iter=16, rank=12)</pre></div></div></div></div></div>"
      ],
      "text/plain": [
       "FMRegression(l2_reg_V=0.08, l2_reg_w=0.09, n_iter=16, rank=12)"
      ]
     },
     "execution_count": 54,
     "metadata": {},
     "output_type": "execute_result"
    }
   ],
   "source": [
    "#Initialize the model\n",
    "fm = als.FMRegression(n_iter=16, rank=12, l2_reg_w=0.09, l2_reg_V=0.08)\n",
    "#Fit the model to the training data\n",
    "fm.fit(X_train, y_train)"
   ]
  },
  {
   "cell_type": "code",
   "execution_count": 62,
   "metadata": {
    "colab": {
     "base_uri": "https://localhost:8080/"
    },
    "id": "8PA-JyUDgSR4",
    "outputId": "6f365c68-a0fb-4a98-e14d-18530fcdcd6b"
   },
   "outputs": [
    {
     "name": "stdout",
     "output_type": "stream",
     "text": [
      "Mean Squared Error on validation set is : 2.4821819558599767\n",
      "Root Mean Squared Error on validation set is : 1.5754941941689207\n",
      "Accuracy on validation set is : 0.564949123186837\n"
     ]
    }
   ],
   "source": [
    "y_pred = fm.predict(X_valid)\n",
    "\n",
    "y_pred_class=[get_even_rating(y) for y in y_pred]\n",
    "\n",
    "mse_valid = mean_squared_error(y_valid, y_pred)\n",
    "rmse_valid= mean_squared_error(y_valid, y_pred,squared=False)\n",
    "accuracy_valid=accuracy_score(y_valid,y_pred_class)\n",
    "\n",
    "print(f'Mean Squared Error on validation set is : {mse_valid}')\n",
    "print(f'Root Mean Squared Error on validation set is : {rmse_valid}')\n",
    "print(f'Accuracy on validation set is : {accuracy_valid}')"
   ]
  },
  {
   "cell_type": "code",
   "execution_count": 57,
   "metadata": {
    "colab": {
     "base_uri": "https://localhost:8080/"
    },
    "id": "zR3qKsTjD31x",
    "outputId": "86e1ae26-824b-4bd0-b812-5c45fe45a823"
   },
   "outputs": [
    {
     "name": "stdout",
     "output_type": "stream",
     "text": [
      "Mean Absolute Error on validation set is : 1.170917417121993\n"
     ]
    }
   ],
   "source": [
    "mae_valid = mean_absolute_error(y_valid, y_pred)\n",
    "\n",
    "print(f'Mean Absolute Error on validation set is : {mae_valid}')"
   ]
  },
  {
   "cell_type": "code",
   "execution_count": 58,
   "metadata": {
    "id": "-eFg2sqlmBt2"
   },
   "outputs": [],
   "source": [
    "sparse_test=v.transform(test_dict)\n",
    "y_pred_test=fm.predict(sparse_test)\n",
    "y_pred_test_int=[get_even_rating(y) for y in y_pred_test]"
   ]
  },
  {
   "cell_type": "code",
   "execution_count": 59,
   "metadata": {
    "colab": {
     "base_uri": "https://localhost:8080/"
    },
    "id": "qwfOF4dvgSUO",
    "outputId": "72fa7e8c-aa29-477d-e6fb-f4c8c84435d8"
   },
   "outputs": [
    {
     "name": "stdout",
     "output_type": "stream",
     "text": [
      "Mean Squared Error on test set is : 2.6605352039490775\n"
     ]
    }
   ],
   "source": [
    "mse_test = mean_squared_error(target_test.values, y_pred_test_int)\n",
    "\n",
    "print(f'Mean Squared Error on test set is : {mse_test}')"
   ]
  },
  {
   "cell_type": "code",
   "execution_count": 63,
   "metadata": {
    "colab": {
     "base_uri": "https://localhost:8080/"
    },
    "id": "DSyv0OJjsN1c",
    "outputId": "79cb6cdc-8d87-4cfb-f74e-73afa864ce39"
   },
   "outputs": [
    {
     "name": "stdout",
     "output_type": "stream",
     "text": [
      "Root Mean Squared Error on test set is : 1.6311147120754805\n"
     ]
    }
   ],
   "source": [
    "rmse_test = mean_squared_error(target_test.values, y_pred_test_int,squared=False)\n",
    "\n",
    "print(f'Root Mean Squared Error on test set is : {rmse_test}')"
   ]
  },
  {
   "cell_type": "code",
   "execution_count": 60,
   "metadata": {
    "colab": {
     "base_uri": "https://localhost:8080/"
    },
    "id": "FhVl8BIsEhbC",
    "outputId": "b9085a54-56cc-43f3-f0dd-b2efa1ba3ad4"
   },
   "outputs": [
    {
     "name": "stdout",
     "output_type": "stream",
     "text": [
      "Mean absolute Error on test set is : 1.0116393868537283\n"
     ]
    }
   ],
   "source": [
    "mae_test = mean_absolute_error(target_test.values, y_pred_test_int)\n",
    "\n",
    "print(f'Mean absolute Error on test set is : {mae_test}')"
   ]
  },
  {
   "cell_type": "code",
   "execution_count": 61,
   "metadata": {
    "colab": {
     "base_uri": "https://localhost:8080/"
    },
    "id": "H6pUl3HHOj22",
    "outputId": "62c823c1-959c-4a03-cf9e-9505fdd0a914"
   },
   "outputs": [
    {
     "name": "stdout",
     "output_type": "stream",
     "text": [
      "Accuracy on validation set is : 0.5604312808521694\n"
     ]
    }
   ],
   "source": [
    "accuracy_test=accuracy_score(target_test.values, y_pred_test_int)\n",
    "print(f'Accuracy on test set is : {accuracy_test}')"
   ]
  },
  {
   "cell_type": "code",
   "execution_count": null,
   "metadata": {
    "id": "GLHhum84seke"
   },
   "outputs": [],
   "source": [
    "confusion_matrix(target_test.values, y_pred_test_int)"
   ]
  },
  {
   "cell_type": "code",
   "execution_count": null,
   "metadata": {
    "id": "HjiJwV4useiO"
   },
   "outputs": [],
   "source": []
  }
 ],
 "metadata": {
  "colab": {
   "provenance": []
  },
  "kernelspec": {
   "display_name": "Python 3 (ipykernel)",
   "language": "python",
   "name": "python3"
  },
  "language_info": {
   "codemirror_mode": {
    "name": "ipython",
    "version": 3
   },
   "file_extension": ".py",
   "mimetype": "text/x-python",
   "name": "python",
   "nbconvert_exporter": "python",
   "pygments_lexer": "ipython3",
   "version": "3.11.5"
  }
 },
 "nbformat": 4,
 "nbformat_minor": 1
}
