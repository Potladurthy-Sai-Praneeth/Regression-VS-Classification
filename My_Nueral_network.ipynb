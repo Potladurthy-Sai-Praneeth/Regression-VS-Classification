{
 "cells": [
  {
   "cell_type": "code",
   "execution_count": 1,
   "id": "3abf4b00",
   "metadata": {},
   "outputs": [],
   "source": [
    "import torch\n",
    "import pandas as pd\n",
    "import numpy as np\n",
    "import torch.nn as nn\n",
    "from sklearn.model_selection import train_test_split\n",
    "from sklearn.preprocessing import LabelEncoder\n",
    "from torch.utils.data import TensorDataset,DataLoader\n",
    "import torchmetrics\n",
    "import torch.optim as optim\n",
    "import math\n",
    "from sklearn.metrics import mean_squared_error,accuracy_score,f1_score"
   ]
  },
  {
   "cell_type": "code",
   "execution_count": 2,
   "id": "25450266",
   "metadata": {},
   "outputs": [],
   "source": [
    "train=pd.read_csv('processed_train.csv')"
   ]
  },
  {
   "cell_type": "code",
   "execution_count": 39,
   "id": "c602238e",
   "metadata": {},
   "outputs": [],
   "source": [
    "test=pd.read_csv('processed_test.csv')"
   ]
  },
  {
   "cell_type": "code",
   "execution_count": 3,
   "id": "e500a2dc",
   "metadata": {},
   "outputs": [
    {
     "data": {
      "text/plain": [
       "fit                       object\n",
       "user_id                    int64\n",
       "bust size                 object\n",
       "item_id                    int64\n",
       "weight                    object\n",
       "rating                     int64\n",
       "rented for                object\n",
       "body type                 object\n",
       "category                  object\n",
       "height                    object\n",
       "size                       int64\n",
       "age                        int64\n",
       "review_polarity_score    float64\n",
       "BMI                      float64\n",
       "year                       int64\n",
       "month                      int64\n",
       "dtype: object"
      ]
     },
     "execution_count": 3,
     "metadata": {},
     "output_type": "execute_result"
    }
   ],
   "source": [
    "train.dtypes"
   ]
  },
  {
   "cell_type": "code",
   "execution_count": 4,
   "id": "a981527e",
   "metadata": {},
   "outputs": [],
   "source": [
    "train['user_id']=train['user_id'].astype('object')\n",
    "train['item_id']=train['item_id'].astype('object')"
   ]
  },
  {
   "cell_type": "markdown",
   "id": "dc245bfc",
   "metadata": {},
   "source": [
    "X_train,X_valid,y_train,y_valid=train_test_split(train.drop('rating',axis=1),train['rating'],test_size=0.12,random_state=68)"
   ]
  },
  {
   "cell_type": "code",
   "execution_count": 5,
   "id": "9c0a22fc",
   "metadata": {},
   "outputs": [],
   "source": [
    "def prepare_inputs_for_nn(df):\n",
    "    tar=df['rating']\n",
    "    df.drop(['weight','height','body type','age','rented for','rating'],inplace=True,axis=1)\n",
    "    df=pd.get_dummies(df,columns=['fit'],drop_first=True)\n",
    "    le=LabelEncoder()\n",
    "    df[['user_id','item_id','bust size','category']]=df[['user_id','item_id','bust size','category']].apply(le.fit_transform)\n",
    "    return (df,tar)"
   ]
  },
  {
   "cell_type": "code",
   "execution_count": 6,
   "id": "39d83a9b",
   "metadata": {},
   "outputs": [],
   "source": [
    "train,target=prepare_inputs_for_nn(train)"
   ]
  },
  {
   "cell_type": "markdown",
   "id": "6a1bc1de",
   "metadata": {},
   "source": [
    "embedding_user=nn.Embedding(train['user_id'].nunique(),10)\n",
    "embedding_item=nn.Embedding(train['item_id'].nunique(),10)\n",
    "embedding_bust_size=nn.Embedding(train['bust size'].nunique(),10)\n",
    "embedding_category=nn.Embedding(train['category'].nunique(),10)\n"
   ]
  },
  {
   "cell_type": "code",
   "execution_count": 7,
   "id": "739c17a0",
   "metadata": {},
   "outputs": [],
   "source": []
  },
  {
   "cell_type": "code",
   "execution_count": 8,
   "id": "85e98d16",
   "metadata": {},
   "outputs": [
    {
     "data": {
      "text/html": [
       "<div>\n",
       "<style scoped>\n",
       "    .dataframe tbody tr th:only-of-type {\n",
       "        vertical-align: middle;\n",
       "    }\n",
       "\n",
       "    .dataframe tbody tr th {\n",
       "        vertical-align: top;\n",
       "    }\n",
       "\n",
       "    .dataframe thead th {\n",
       "        text-align: right;\n",
       "    }\n",
       "</style>\n",
       "<table border=\"1\" class=\"dataframe\">\n",
       "  <thead>\n",
       "    <tr style=\"text-align: right;\">\n",
       "      <th></th>\n",
       "      <th>user_id</th>\n",
       "      <th>bust size</th>\n",
       "      <th>item_id</th>\n",
       "      <th>category</th>\n",
       "      <th>size</th>\n",
       "      <th>review_polarity_score</th>\n",
       "      <th>BMI</th>\n",
       "      <th>year</th>\n",
       "      <th>month</th>\n",
       "      <th>fit_large</th>\n",
       "      <th>fit_small</th>\n",
       "    </tr>\n",
       "  </thead>\n",
       "  <tbody>\n",
       "    <tr>\n",
       "      <th>0</th>\n",
       "      <td>24279</td>\n",
       "      <td>39</td>\n",
       "      <td>1633</td>\n",
       "      <td>15</td>\n",
       "      <td>8</td>\n",
       "      <td>0.0000</td>\n",
       "      <td>21.031478</td>\n",
       "      <td>2017</td>\n",
       "      <td>9</td>\n",
       "      <td>False</td>\n",
       "      <td>False</td>\n",
       "    </tr>\n",
       "    <tr>\n",
       "      <th>1</th>\n",
       "      <td>17998</td>\n",
       "      <td>54</td>\n",
       "      <td>5148</td>\n",
       "      <td>22</td>\n",
       "      <td>12</td>\n",
       "      <td>0.8074</td>\n",
       "      <td>22.148708</td>\n",
       "      <td>2017</td>\n",
       "      <td>1</td>\n",
       "      <td>False</td>\n",
       "      <td>False</td>\n",
       "    </tr>\n",
       "    <tr>\n",
       "      <th>2</th>\n",
       "      <td>22209</td>\n",
       "      <td>37</td>\n",
       "      <td>2835</td>\n",
       "      <td>15</td>\n",
       "      <td>8</td>\n",
       "      <td>0.9619</td>\n",
       "      <td>21.454890</td>\n",
       "      <td>2017</td>\n",
       "      <td>3</td>\n",
       "      <td>False</td>\n",
       "      <td>False</td>\n",
       "    </tr>\n",
       "    <tr>\n",
       "      <th>3</th>\n",
       "      <td>16087</td>\n",
       "      <td>29</td>\n",
       "      <td>4692</td>\n",
       "      <td>43</td>\n",
       "      <td>14</td>\n",
       "      <td>0.7793</td>\n",
       "      <td>23.010315</td>\n",
       "      <td>2017</td>\n",
       "      <td>11</td>\n",
       "      <td>False</td>\n",
       "      <td>False</td>\n",
       "    </tr>\n",
       "    <tr>\n",
       "      <th>4</th>\n",
       "      <td>86936</td>\n",
       "      <td>66</td>\n",
       "      <td>6</td>\n",
       "      <td>19</td>\n",
       "      <td>39</td>\n",
       "      <td>0.3400</td>\n",
       "      <td>28.886246</td>\n",
       "      <td>2015</td>\n",
       "      <td>1</td>\n",
       "      <td>False</td>\n",
       "      <td>False</td>\n",
       "    </tr>\n",
       "    <tr>\n",
       "      <th>...</th>\n",
       "      <td>...</td>\n",
       "      <td>...</td>\n",
       "      <td>...</td>\n",
       "      <td>...</td>\n",
       "      <td>...</td>\n",
       "      <td>...</td>\n",
       "      <td>...</td>\n",
       "      <td>...</td>\n",
       "      <td>...</td>\n",
       "      <td>...</td>\n",
       "      <td>...</td>\n",
       "    </tr>\n",
       "    <tr>\n",
       "      <th>153956</th>\n",
       "      <td>70290</td>\n",
       "      <td>37</td>\n",
       "      <td>515</td>\n",
       "      <td>15</td>\n",
       "      <td>4</td>\n",
       "      <td>0.9595</td>\n",
       "      <td>19.966864</td>\n",
       "      <td>2017</td>\n",
       "      <td>3</td>\n",
       "      <td>False</td>\n",
       "      <td>False</td>\n",
       "    </tr>\n",
       "    <tr>\n",
       "      <th>153957</th>\n",
       "      <td>11736</td>\n",
       "      <td>38</td>\n",
       "      <td>408</td>\n",
       "      <td>15</td>\n",
       "      <td>16</td>\n",
       "      <td>0.5267</td>\n",
       "      <td>22.148708</td>\n",
       "      <td>2017</td>\n",
       "      <td>12</td>\n",
       "      <td>False</td>\n",
       "      <td>True</td>\n",
       "    </tr>\n",
       "    <tr>\n",
       "      <th>153958</th>\n",
       "      <td>13107</td>\n",
       "      <td>37</td>\n",
       "      <td>64</td>\n",
       "      <td>15</td>\n",
       "      <td>4</td>\n",
       "      <td>0.5023</td>\n",
       "      <td>19.043618</td>\n",
       "      <td>2015</td>\n",
       "      <td>7</td>\n",
       "      <td>False</td>\n",
       "      <td>False</td>\n",
       "    </tr>\n",
       "    <tr>\n",
       "      <th>153959</th>\n",
       "      <td>48837</td>\n",
       "      <td>25</td>\n",
       "      <td>37</td>\n",
       "      <td>19</td>\n",
       "      <td>12</td>\n",
       "      <td>0.9263</td>\n",
       "      <td>22.140381</td>\n",
       "      <td>2014</td>\n",
       "      <td>5</td>\n",
       "      <td>False</td>\n",
       "      <td>False</td>\n",
       "    </tr>\n",
       "    <tr>\n",
       "      <th>153960</th>\n",
       "      <td>37945</td>\n",
       "      <td>37</td>\n",
       "      <td>5313</td>\n",
       "      <td>52</td>\n",
       "      <td>4</td>\n",
       "      <td>0.8072</td>\n",
       "      <td>21.453857</td>\n",
       "      <td>2016</td>\n",
       "      <td>6</td>\n",
       "      <td>True</td>\n",
       "      <td>False</td>\n",
       "    </tr>\n",
       "  </tbody>\n",
       "</table>\n",
       "<p>153961 rows × 11 columns</p>\n",
       "</div>"
      ],
      "text/plain": [
       "        user_id  bust size  item_id  category  size  review_polarity_score  \\\n",
       "0         24279         39     1633        15     8                 0.0000   \n",
       "1         17998         54     5148        22    12                 0.8074   \n",
       "2         22209         37     2835        15     8                 0.9619   \n",
       "3         16087         29     4692        43    14                 0.7793   \n",
       "4         86936         66        6        19    39                 0.3400   \n",
       "...         ...        ...      ...       ...   ...                    ...   \n",
       "153956    70290         37      515        15     4                 0.9595   \n",
       "153957    11736         38      408        15    16                 0.5267   \n",
       "153958    13107         37       64        15     4                 0.5023   \n",
       "153959    48837         25       37        19    12                 0.9263   \n",
       "153960    37945         37     5313        52     4                 0.8072   \n",
       "\n",
       "              BMI  year  month  fit_large  fit_small  \n",
       "0       21.031478  2017      9      False      False  \n",
       "1       22.148708  2017      1      False      False  \n",
       "2       21.454890  2017      3      False      False  \n",
       "3       23.010315  2017     11      False      False  \n",
       "4       28.886246  2015      1      False      False  \n",
       "...           ...   ...    ...        ...        ...  \n",
       "153956  19.966864  2017      3      False      False  \n",
       "153957  22.148708  2017     12      False       True  \n",
       "153958  19.043618  2015      7      False      False  \n",
       "153959  22.140381  2014      5      False      False  \n",
       "153960  21.453857  2016      6       True      False  \n",
       "\n",
       "[153961 rows x 11 columns]"
      ]
     },
     "execution_count": 8,
     "metadata": {},
     "output_type": "execute_result"
    }
   ],
   "source": [
    "train"
   ]
  },
  {
   "cell_type": "markdown",
   "id": "b8234c06",
   "metadata": {},
   "source": [
    "embed_user=embedding_user(torch.from_numpy(train['user_id'].values))\n",
    "embed_item=embedding_user(torch.from_numpy(train['item_id'].values))\n",
    "embed_bust_size=embedding_user(torch.from_numpy(train['bust size'].values))\n",
    "embed_category=embedding_user(torch.from_numpy(train['category'].values))"
   ]
  },
  {
   "cell_type": "code",
   "execution_count": 7,
   "id": "d376617a",
   "metadata": {},
   "outputs": [],
   "source": [
    "cat_cols=('bust size','item_id','user_id','category')\n",
    "tensor=[]\n",
    "for i in train.columns:\n",
    "    if( i in cat_cols):\n",
    "        embedding=nn.Embedding(train[i].nunique(),5)\n",
    "        embed_values=embedding(torch.from_numpy(train[i].values))\n",
    "        \n",
    "        tensor.append(embed_values)\n",
    "    else:\n",
    "        tensor.append(torch.from_numpy(train[i].values).view(-1,1))\n",
    "                            "
   ]
  },
  {
   "cell_type": "code",
   "execution_count": 8,
   "id": "b1fe08d9",
   "metadata": {},
   "outputs": [],
   "source": [
    "features=torch.cat(tensor,dim=1)"
   ]
  },
  {
   "cell_type": "code",
   "execution_count": 9,
   "id": "eef751eb",
   "metadata": {},
   "outputs": [],
   "source": [
    "target=torch.tensor(target).reshape(-1,1)"
   ]
  },
  {
   "cell_type": "markdown",
   "id": "c0cb6543",
   "metadata": {},
   "source": [
    "# Nueral Network"
   ]
  },
  {
   "cell_type": "code",
   "execution_count": 10,
   "id": "88f72836",
   "metadata": {},
   "outputs": [],
   "source": [
    "dataset=TensorDataset(features.float(),target.float())\n",
    "\n",
    "train_dataset,valid_dataset=torch.utils.data.random_split(dataset, [math.ceil(features.shape[0]*0.88),int(features.shape[0]*0.12)])\n",
    "# Let us have 100 batches\n",
    "\n",
    "train_loader=DataLoader(train_dataset,batch_size=13548,shuffle=True)\n",
    "valid_loader=DataLoader(valid_dataset,batch_size=1847,shuffle=True)"
   ]
  },
  {
   "cell_type": "code",
   "execution_count": 13,
   "id": "e4cc890f",
   "metadata": {},
   "outputs": [],
   "source": [
    "model=nn.Sequential(\n",
    "    nn.Linear(features.shape[1],10),\n",
    "    nn.ReLU(),\n",
    "    nn.Linear(10,5),\n",
    "    nn.ReLU(),\n",
    "    nn.Linear(5,5),\n",
    "    nn.ReLU(),\n",
    "    nn.Linear(5,1)\n",
    ")"
   ]
  },
  {
   "cell_type": "code",
   "execution_count": 14,
   "id": "e2c6c560",
   "metadata": {},
   "outputs": [],
   "source": [
    "criterion=nn.MSELoss()\n",
    "optimizer=optim.Adam(model.parameters(),lr=0.001)"
   ]
  },
  {
   "cell_type": "code",
   "execution_count": 15,
   "id": "63374e07",
   "metadata": {},
   "outputs": [
    {
     "name": "stdout",
     "output_type": "stream",
     "text": [
      "Training loss for epoch 0 is 29.919632998379793 Validation loss for epoch 0 is 14.873541138388894\n",
      "\n",
      "Training loss for epoch 1 is 6.796318065036427 Validation loss for epoch 1 is 1.948041395707564\n",
      "\n",
      "Training loss for epoch 2 is 3.2204388054934414 Validation loss for epoch 2 is 3.020346566018733\n",
      "\n",
      "Training loss for epoch 3 is 2.368102631785653 Validation loss for epoch 3 is 1.9677513187581843\n",
      "\n",
      "Training loss for epoch 4 is 2.1869214448061856 Validation loss for epoch 4 is 2.17592867937955\n",
      "\n",
      "Training loss for epoch 5 is 2.5071720860221167 Validation loss for epoch 5 is 1.9349805387583645\n",
      "\n",
      "Training loss for epoch 6 is 1.9434295946901494 Validation loss for epoch 6 is 1.9414896368980408\n",
      "\n",
      "Training loss for epoch 7 is 1.9356193379922346 Validation loss for epoch 7 is 1.94989383762533\n",
      "\n",
      "Training loss for epoch 8 is 1.9484605355696245 Validation loss for epoch 8 is 1.94632089138031\n",
      "\n",
      "Training loss for epoch 9 is 2.067740418694236 Validation loss for epoch 9 is 1.9378469803116538\n",
      "\n"
     ]
    }
   ],
   "source": [
    "for epoch in range(10):\n",
    "    train_loss=0.0\n",
    "    \n",
    "    for data in train_loader:\n",
    "        optimizer.zero_grad()\n",
    "        \n",
    "        feat,tar=data\n",
    "        #print(feat.shape)\n",
    "        #print(tar.shape)\n",
    "        predictions=model(feat)\n",
    "        #print(predictions.shape)\n",
    "        loss=criterion(predictions,tar)\n",
    "        loss.backward(retain_graph=True)\n",
    "        optimizer.step()\n",
    "        train_loss+=loss.item()\n",
    "    \n",
    "    epoch_train_loss=train_loss/len(train_loader)\n",
    "    \n",
    "    validation_loss=0.0\n",
    "    model.eval()\n",
    "    with torch.no_grad():\n",
    "        for val_data in valid_loader:\n",
    "            feat_val,tar_val=val_data\n",
    "            predictions_val=model(feat_val)\n",
    "            loss_val=criterion(predictions_val,tar_val)\n",
    "            validation_loss+=loss_val.item()\n",
    "            \n",
    "        epoch_validation_loss=validation_loss/len(valid_loader)\n",
    "    model.train()\n",
    "    print(f'Training loss for epoch {epoch} is {epoch_train_loss}',end=' ')\n",
    "    print(f'Validation loss for epoch {epoch} is {epoch_validation_loss}\\n')"
   ]
  },
  {
   "cell_type": "code",
   "execution_count": 40,
   "id": "e3819c11",
   "metadata": {},
   "outputs": [],
   "source": [
    "test,tar_test=prepare_inputs_for_nn(test)\n",
    "cat_cols=('bust size','item_id','user_id','category')\n",
    "tensor_test=[]\n",
    "for i in test.columns:\n",
    "    if( i in cat_cols):\n",
    "        embedding=nn.Embedding(test[i].nunique(),5)\n",
    "        embed_values=embedding(torch.from_numpy(test[i].values))\n",
    "        \n",
    "        tensor_test.append(embed_values)\n",
    "    else:\n",
    "        tensor_test.append(torch.from_numpy(test[i].values).view(-1,1))\n",
    "                            \n",
    "\n",
    "features_test=torch.cat(tensor_test,dim=1)"
   ]
  },
  {
   "cell_type": "code",
   "execution_count": 40,
   "id": "0b5174aa",
   "metadata": {},
   "outputs": [
    {
     "data": {
      "text/plain": [
       "1.4327558738064368"
      ]
     },
     "execution_count": 40,
     "metadata": {},
     "output_type": "execute_result"
    }
   ],
   "source": [
    "pred_test=model(features_test.float())\n",
    "RMSE=mean_squared_error(tar_test.values,pred_test.detach().numpy().flatten(),squared=False)\n",
    "RMSE\n",
    "#pred_test"
   ]
  },
  {
   "cell_type": "code",
   "execution_count": 41,
   "id": "d2a2c3c7",
   "metadata": {},
   "outputs": [
    {
     "name": "stdout",
     "output_type": "stream",
     "text": [
      "RMSE of the validation set is 1.392 and RMSE of the test set is 1.4327558738064368\n"
     ]
    }
   ],
   "source": [
    "print(f'RMSE of the validation set is 1.392 and RMSE of the test set is {RMSE}')"
   ]
  },
  {
   "cell_type": "markdown",
   "id": "3a404454",
   "metadata": {},
   "source": [
    "# Nueral network for Classification"
   ]
  },
  {
   "cell_type": "code",
   "execution_count": 18,
   "id": "578d143b",
   "metadata": {},
   "outputs": [],
   "source": [
    "model_classification=nn.Sequential(\n",
    "    nn.Linear(features.shape[1],10),\n",
    "    nn.ReLU(),\n",
    "    nn.Linear(10,5),\n",
    "    nn.ReLU(),\n",
    "    nn.Linear(5,5),\n",
    "    nn.ReLU(),\n",
    "    nn.Linear(5,target.unique().shape[0])\n",
    ")"
   ]
  },
  {
   "cell_type": "code",
   "execution_count": 19,
   "id": "5bbdff86",
   "metadata": {},
   "outputs": [],
   "source": [
    "criterion_classification=nn.CrossEntropyLoss()\n",
    "optimizer_classification=optim.Adam(model_classification.parameters(),lr=0.001)"
   ]
  },
  {
   "cell_type": "code",
   "execution_count": 20,
   "id": "e6d2e691",
   "metadata": {},
   "outputs": [],
   "source": [
    "def get_accuracy(predictions, labels):\n",
    "    classes = torch.argmax(predictions, dim=1)\n",
    "    return torch.mean((classes == labels).float())"
   ]
  },
  {
   "cell_type": "code",
   "execution_count": 24,
   "id": "3684f891",
   "metadata": {},
   "outputs": [
    {
     "name": "stdout",
     "output_type": "stream",
     "text": [
      "Training loss for epoch 0 is 1.341190522367304  and accuracy is 0.6629224419593811 Validation loss for epoch 0 is 1.128218650817871 and accuracy is 0.6661220192909241\n",
      "\n",
      "Training loss for epoch 1 is 1.0683216398412532  and accuracy is 0.6629223823547363 Validation loss for epoch 1 is 1.019225532358343 and accuracy is 0.6661219596862793\n",
      "\n",
      "Training loss for epoch 2 is 0.9758476425300945  and accuracy is 0.6780672073364258 Validation loss for epoch 2 is 1.0030598694627935 and accuracy is 0.6479893326759338\n",
      "\n",
      "Training loss for epoch 3 is 0.9992300922220404  and accuracy is 0.6477775573730469 Validation loss for epoch 3 is 0.9431242780251936 and accuracy is 0.6661219596862793\n",
      "\n",
      "Training loss for epoch 4 is 0.9622874097390608  and accuracy is 0.6477775573730469 Validation loss for epoch 4 is 0.9011428925124082 and accuracy is 0.6842545866966248\n",
      "\n",
      "Training loss for epoch 5 is 0.9618658206679604  and accuracy is 0.6326327919960022 Validation loss for epoch 5 is 0.9174319830807772 and accuracy is 0.6661220192909241\n",
      "\n",
      "Training loss for epoch 6 is 0.9028930772434581  and accuracy is 0.6629223823547363 Validation loss for epoch 6 is 0.9137084917588667 and accuracy is 0.6479893326759338\n",
      "\n",
      "Training loss for epoch 7 is 0.9065250320868059  and accuracy is 0.6477776169776917 Validation loss for epoch 7 is 0.8554611666636034 and accuracy is 0.6842545866966248\n",
      "\n",
      "Training loss for epoch 8 is 0.9301380135796287  and accuracy is 0.6326327919960022 Validation loss for epoch 8 is 0.891639611937783 and accuracy is 0.6479893922805786\n",
      "\n",
      "Training loss for epoch 9 is 0.8724895444783297  and accuracy is 0.6629223823547363 Validation loss for epoch 9 is 0.8846054348078641 and accuracy is 0.6479893326759338\n",
      "\n"
     ]
    }
   ],
   "source": [
    "for epoch in range(10):\n",
    "    train_loss=0.0\n",
    "    running_accuracy = 0.0\n",
    "    \n",
    "    for data in train_loader:\n",
    "        optimizer_classification.zero_grad()\n",
    "        \n",
    "        feat,tar=data\n",
    "        tar=((tar/2)-torch.tensor(1)).flatten().long()\n",
    "        #print(feat.shape)\n",
    "        #print(tar.shape)\n",
    "        outputs=model_classification(feat)\n",
    "        #print(outputs)\n",
    "        #print(torch.flatten(tar))\n",
    "        loss=criterion_classification(outputs,tar)\n",
    "        loss.backward(retain_graph=True)\n",
    "        optimizer_classification.step()\n",
    "        train_loss+=loss.item()\n",
    "        running_accuracy += get_accuracy(outputs, tar)\n",
    "        #print(outputs)\n",
    "        #print(f'Actual labels are {tar}')\n",
    "    \n",
    "    epoch_train_loss=train_loss/len(train_loader)\n",
    "    accuracy_train =running_accuracy/ len(train_loader)\n",
    "    \n",
    "    validation_loss=0.0\n",
    "    running_accuracy_validation= 0\n",
    "    model_classification.eval()\n",
    "    with torch.no_grad():\n",
    "        for val_data in valid_loader:\n",
    "            feat_val,tar_val=val_data\n",
    "            tar_val=((tar_val/2)-torch.tensor(1)).flatten().long()\n",
    "            output_val=model_classification(feat_val)\n",
    "            loss_val=criterion_classification(output_val,tar_val)\n",
    "            validation_loss+=loss_val.item()\n",
    "            running_accuracy_validation += get_accuracy(output_val, tar_val)\n",
    "            #print('validation')\n",
    "            #print(output_val)\n",
    "            #print(f'Actual labels are {tar_val}')\n",
    "            \n",
    "        epoch_validation_loss=validation_loss/len(valid_loader)\n",
    "        accuracy_validation = running_accuracy_validation / len(valid_loader)\n",
    "    model_classification.train()\n",
    "    print(f'Training loss for epoch {epoch} is {epoch_train_loss}  and accuracy is {accuracy_train}',end=' ')\n",
    "    print(f'Validation loss for epoch {epoch} is {epoch_validation_loss} and accuracy is {accuracy_validation}\\n')"
   ]
  },
  {
   "cell_type": "code",
   "execution_count": 42,
   "id": "240425a3",
   "metadata": {
    "scrolled": true
   },
   "outputs": [
    {
     "data": {
      "text/plain": [
       "tensor(0.6485)"
      ]
     },
     "execution_count": 42,
     "metadata": {},
     "output_type": "execute_result"
    }
   ],
   "source": [
    "pred_test_classification=model_classification(features_test.float())\n",
    "tar_test=((torch.tensor(tar_test)/2)-torch.tensor(1)).flatten().long()\n",
    "accuracy_test=get_accuracy(pred_test_classification,tar_test)\n",
    "accuracy_test"
   ]
  },
  {
   "cell_type": "code",
   "execution_count": 46,
   "id": "9d861dda",
   "metadata": {},
   "outputs": [
    {
     "name": "stdout",
     "output_type": "stream",
     "text": [
      "Accuracy of the validation set is 0.6842 and Accuracy of the test set is 0.6485152244567871\n"
     ]
    }
   ],
   "source": [
    "print(f'Accuracy of the validation set is 0.6842 and Accuracy of the test set is {accuracy_test}')"
   ]
  },
  {
   "cell_type": "code",
   "execution_count": null,
   "id": "c20fb88e",
   "metadata": {},
   "outputs": [],
   "source": []
  }
 ],
 "metadata": {
  "kernelspec": {
   "display_name": "Python 3 (ipykernel)",
   "language": "python",
   "name": "python3"
  },
  "language_info": {
   "codemirror_mode": {
    "name": "ipython",
    "version": 3
   },
   "file_extension": ".py",
   "mimetype": "text/x-python",
   "name": "python",
   "nbconvert_exporter": "python",
   "pygments_lexer": "ipython3",
   "version": "3.10.13"
  }
 },
 "nbformat": 4,
 "nbformat_minor": 5
}
